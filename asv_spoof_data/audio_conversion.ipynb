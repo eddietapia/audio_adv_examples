{
 "cells": [
  {
   "cell_type": "code",
   "execution_count": 39,
   "metadata": {},
   "outputs": [
    {
     "data": {
      "text/plain": [
       "['LA_T_1272637.flac',\n",
       " 'LA_T_1608170.flac',\n",
       " 'LA_T_1684951.flac',\n",
       " 'LA_T_1596451.flac',\n",
       " 'LA_T_1363611.flac',\n",
       " 'LA_T_1779188.flac',\n",
       " 'LA_T_1699801.flac',\n",
       " 'LA_T_1786825.flac',\n",
       " 'LA_T_1271820.flac',\n",
       " 'LA_T_1703395.flac',\n",
       " 'LA_T_1276960.flac',\n",
       " 'LA_T_1736342.flac',\n",
       " 'LA_T_1138215.flac',\n",
       " 'LA_T_1341447.flac',\n",
       " 'LA_T_1787246.flac']"
      ]
     },
     "execution_count": 39,
     "metadata": {},
     "output_type": "execute_result"
    }
   ],
   "source": [
    "\"\"\"\n",
    "Purpose: This notebook is used to convert the audio files from the ASVspoof dataset\n",
    "so we can apply Carlini's adverserial attack to the original audio file. \n",
    "\"\"\"\n",
    "# import sys\n",
    "# !{sys.executable} -m pip install pydub\n",
    "import glob\n",
    "\n",
    "files = glob.glob('*.flac')\n",
    "files"
   ]
  },
  {
   "cell_type": "code",
   "execution_count": 30,
   "metadata": {},
   "outputs": [],
   "source": [
    "from pydub import AudioSegment\n",
    "\n",
    "# Convert flac file to wav\n",
    "def flac_to_wav(file_name):\n",
    "    print(\"File name:\", file_name)\n",
    "    audio = AudioSegment.from_file(file_name, format=\"flac\")\n",
    "    file_name = file_name.split('.')[0]\n",
    "    new_file_name = \"original_\" + file_name + \".wav\"\n",
    "    audio.export(new_file_name, format=\"wav\")\n",
    "\n",
    "# Convert wav file to flac\n",
    "def wav_to_flac(file_name):\n",
    "    audio = AudioSegment.from_wav(file_name)\n",
    "    file_name = file_name.split('.')[0]\n",
    "    new_file_name = \"test_\" + file_name + \".flac\"\n",
    "    audio.export(new_file_name, format = \"flac\")"
   ]
  },
  {
   "cell_type": "code",
   "execution_count": 32,
   "metadata": {},
   "outputs": [
    {
     "name": "stdout",
     "output_type": "stream",
     "text": [
      "File name: LA_T_1000648.flac\n"
     ]
    }
   ],
   "source": [
    "f = \"LA_T_1000648.flac\"\n",
    "flac_to_wav(f)"
   ]
  },
  {
   "cell_type": "code",
   "execution_count": 33,
   "metadata": {},
   "outputs": [],
   "source": [
    "f = \"original_LA_T_1000648.wav\"\n",
    "wav_to_flac(f)"
   ]
  },
  {
   "cell_type": "code",
   "execution_count": 40,
   "metadata": {},
   "outputs": [
    {
     "name": "stdout",
     "output_type": "stream",
     "text": [
      "File name: LA_T_1272637.flac\n",
      "File name: LA_T_1608170.flac\n",
      "File name: LA_T_1684951.flac\n",
      "File name: LA_T_1596451.flac\n",
      "File name: LA_T_1363611.flac\n",
      "File name: LA_T_1779188.flac\n",
      "File name: LA_T_1699801.flac\n",
      "File name: LA_T_1786825.flac\n",
      "File name: LA_T_1271820.flac\n",
      "File name: LA_T_1703395.flac\n",
      "File name: LA_T_1276960.flac\n",
      "File name: LA_T_1736342.flac\n",
      "File name: LA_T_1138215.flac\n",
      "File name: LA_T_1341447.flac\n",
      "File name: LA_T_1787246.flac\n"
     ]
    }
   ],
   "source": [
    "# Convert all the files to wav\n",
    "for file in files:\n",
    "    flac_to_wav(file)"
   ]
  },
  {
   "cell_type": "code",
   "execution_count": 35,
   "metadata": {},
   "outputs": [],
   "source": [
    "# Convert all the files back to flac\n",
    "for file in files:\n",
    "    wav_to_flac(file)"
   ]
  },
  {
   "cell_type": "code",
   "execution_count": null,
   "metadata": {},
   "outputs": [],
   "source": []
  }
 ],
 "metadata": {
  "kernelspec": {
   "display_name": "Python 3",
   "language": "python",
   "name": "python3"
  },
  "language_info": {
   "codemirror_mode": {
    "name": "ipython",
    "version": 3
   },
   "file_extension": ".py",
   "mimetype": "text/x-python",
   "name": "python",
   "nbconvert_exporter": "python",
   "pygments_lexer": "ipython3",
   "version": "3.5.6"
  }
 },
 "nbformat": 4,
 "nbformat_minor": 2
}
